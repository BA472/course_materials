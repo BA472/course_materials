{
 "cells": [
  {
   "cell_type": "code",
   "execution_count": 6,
   "metadata": {},
   "outputs": [
    {
     "name": "stdout",
     "output_type": "stream",
     "text": [
      "\n",
      "    You have loaded the 'pyfixest.did' module. While every function is tested in `tests/test_did.py`,\n",
      "    the module is not yet as thoroughly tested as I would like. So please use it with caution and\n",
      "    provide feedback in case you stumble over any bugs!\n",
      "    \n"
     ]
    },
    {
     "data": {
      "text/html": [
       "\n",
       "            <div id=\"SZvOfb\"></div>\n",
       "            <script type=\"text/javascript\" data-lets-plot-script=\"library\">\n",
       "                if(!window.letsPlotCallQueue) {\n",
       "                    window.letsPlotCallQueue = [];\n",
       "                }; \n",
       "                window.letsPlotCall = function(f) {\n",
       "                    window.letsPlotCallQueue.push(f);\n",
       "                };\n",
       "                (function() {\n",
       "                    var script = document.createElement(\"script\");\n",
       "                    script.type = \"text/javascript\";\n",
       "                    script.src = \"https://cdn.jsdelivr.net/gh/JetBrains/lets-plot@v4.2.0/js-package/distr/lets-plot.min.js\";\n",
       "                    script.onload = function() {\n",
       "                        window.letsPlotCall = function(f) {f();};\n",
       "                        window.letsPlotCallQueue.forEach(function(f) {f();});\n",
       "                        window.letsPlotCallQueue = [];\n",
       "                        \n",
       "                    };\n",
       "                    script.onerror = function(event) {\n",
       "                        window.letsPlotCall = function(f) {};    // noop\n",
       "                        window.letsPlotCallQueue = [];\n",
       "                        var div = document.createElement(\"div\");\n",
       "                        div.style.color = 'darkred';\n",
       "                        div.textContent = 'Error loading Lets-Plot JS';\n",
       "                        document.getElementById(\"SZvOfb\").appendChild(div);\n",
       "                    };\n",
       "                    var e = document.getElementById(\"SZvOfb\");\n",
       "                    e.appendChild(script);\n",
       "                })()\n",
       "            </script>\n",
       "            "
      ]
     },
     "metadata": {},
     "output_type": "display_data"
    }
   ],
   "source": [
    "import numpy as np\n",
    "import pandas as pd\n",
    "import seaborn as sns\n",
    "import statsmodels.api as sm\n",
    "\n",
    "from pyfixest.estimation import feols\n",
    "from pyfixest.utils import get_data\n",
    "from pyfixest import etable"
   ]
  },
  {
   "cell_type": "markdown",
   "metadata": {},
   "source": [
    "## **Exercise, Work from Home and Performance.**\n",
    "\n",
    "### Experiment Description\n",
    "Ctrip, which, as of 2016, had 16,000 employees and a NASDAQ valuation of nearly $10 billion, was interested in the potential of WFH to reduce its high office rental costs and annual staff turnover of 50%. At the same time, managers worried that allowing employees to work away from the direct oversight of their supervisors would lead to a large increase in shirking.\n",
    " \n",
    "Given the uncertainty surrounding the effects of WFH in the research literature as well as in practice, Ctrip decided to run a randomized controlled trial. The authors assisted in designing the experiment and, whenever feasible, our recommendations were followed by management. We had complete access to the resulting data, as well as to data from surveys conducted by the firm. We also conducted various surveys ourselves and numerous interviews with employees, line supervisors and senior management.\n",
    " \n",
    "In this nine-month experiment, Ctrip asked the 996 employees in the airfare and hotel departments of its Shanghai call center whether they would be interested in WFH four days a week, with the fifth day in the office. Approximately half of the employees (503) were interested, particularly those who were married, had children and faced long commutes. Of these, 249 were qualified to take part in the experiment by virtue of having at least six months’ tenure, broadband access and a private room at home in which they could work. After a lottery draw, those employees with even-numbered birthdays were selected for WFH, while those with odd-numbered birthdates stayed in the office to act as the control group.\n",
    " \n",
    "Office and home workers used the same IT equipment, faced the same work order flow from a common central server, carried out the same tasks and were compensated under the same pay system, which included an element of individual performance pay. The only difference between the two groups was the location of work. This allows us to isolate the impact of WFH versus other practices that are often bundled alongside this practice in attempts to improve work-life balance, such as flexible work hours. Importantly, individual employees were not allowed to work overtime outside their team shift. In particular, eliminating commuting time did not permit the treatment group to work overtime, so this is not a factor directly driving the results.\n",
    "\n",
    "\n",
    "### Variable definitions:\n",
    "\n",
    "| Variable          | Description                                                                                         |\n",
    "|-------------------|-----------------------------------------------------------------------------------------------------|\n",
    "| `experiment_treatment` | Is the treatment on for this person in this week (`1` = on, `0` = not on) |\n",
    "| `expgroup` | The treatment indicator; `1` = randomly assigned to work from home; `0` = randomly assigned to come to the office. |\n",
    "| `personid`           | The ID of the worker.                                                                               |\n",
    "| `year_week`          | The week of the measurement.                                                                        |\n",
    "| `perform1`           | Overall performance metric devised by the company.                                                  |\n",
    "| `phonecall`          | Number of phone calls in that week. (Note: not all employees have phone call counts due to their jobs.) |\n",
    "| `logcalllength`      | Minutes on the phone in that week. (Note: not all employees have phone calls due to their jobs.)   |\n",
    "| `children`           | Does the person have children? (`1` or `0`)                                                         |\n",
    "| `married`            | Married? (`1` or `0`)                                                                               |\n",
    "| `commute`            | Cost of commute (yuan)                                                                              |\n",
    "| `bedroom`            | Does the worker have their own bedroom? (`1` or `0`)                                                |\n",
    "| `high_educ`          | Does the worker have a high school education or above (`1` or `0`)                                  |\n",
    "| `tenure`             | The worker’s tenure in months.                                                                      |\n",
    "| `grosswage`          | Monthly wage in yuan.                                                                               |\n",
    "| `age`                | The worker’s age.                                                                                   |\n",
    "| `men`                | Is the worker a man (`1` or `0`).     "
   ]
  },
  {
   "cell_type": "code",
   "execution_count": 12,
   "metadata": {},
   "outputs": [],
   "source": [
    "data_wfh = pd.read_csv(\"wfh_small_heterog.csv\")"
   ]
  },
  {
   "cell_type": "markdown",
   "metadata": {},
   "source": [
    "Your task is to use difference in differences to answer the following questions:\n",
    "1) What is the effect of wfh on performance?\n",
    "2) What is the effect of wfh on phone calls?\n",
    "3) What is the effect of wfh on call length?\n",
    "\n",
    "How do you interpret the results?\n"
   ]
  },
  {
   "cell_type": "code",
   "execution_count": 21,
   "metadata": {},
   "outputs": [
    {
     "name": "stdout",
     "output_type": "stream",
     "text": [
      "                                est1\n",
      "--------------------  --------------\n",
      "depvar                      perform1\n",
      "------------------------------------\n",
      "Intercept             -0.044 (0.036)\n",
      "experiment_treatment   0.027 (0.058)\n",
      "------------------------------------\n",
      "------------------------------------\n",
      "R2                             0.000\n",
      "S.E. type               by: personid\n",
      "Observations                   2E+04\n",
      "------------------------------------\n",
      "Significance levels: * p < 0.05, ** p < 0.01, *** p < 0.001\n",
      "Format of coefficient cell:\n",
      "Coefficient (Std. Error)\n"
     ]
    }
   ],
   "source": [
    "# This is the basic model without fixed effects. Note, we are clustering the standard errors at the person level, since this is the unit of randomization.\n",
    "model = feols(\"perform1 ~ experiment_treatment\", data = data_wfh).vcov({\"CRV3\": \"personid\"})\n",
    "etable(model)"
   ]
  },
  {
   "cell_type": "code",
   "execution_count": null,
   "metadata": {},
   "outputs": [],
   "source": []
  }
 ],
 "metadata": {
  "kernelspec": {
   "display_name": "Python 3",
   "language": "python",
   "name": "python3"
  },
  "language_info": {
   "codemirror_mode": {
    "name": "ipython",
    "version": 3
   },
   "file_extension": ".py",
   "mimetype": "text/x-python",
   "name": "python",
   "nbconvert_exporter": "python",
   "pygments_lexer": "ipython3",
   "version": "3.11.4"
  }
 },
 "nbformat": 4,
 "nbformat_minor": 2
}
